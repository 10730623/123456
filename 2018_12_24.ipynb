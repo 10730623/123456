{
  "nbformat": 4,
  "nbformat_minor": 0,
  "metadata": {
    "colab": {
      "name": "2018/12/24.ipynb",
      "version": "0.3.2",
      "provenance": []
    },
    "kernelspec": {
      "name": "python3",
      "display_name": "Python 3"
    }
  },
  "cells": [
    {
      "metadata": {
        "id": "H09ZdwO3JC5A",
        "colab_type": "code",
        "colab": {
          "base_uri": "https://localhost:8080/",
          "height": 102
        },
        "outputId": "e6efd2e7-43f5-4831-d270-3b81918f1ff3"
      },
      "cell_type": "code",
      "source": [
        "from numpy.linalg import inv\n",
        "import numpy as np\n",
        "  \n",
        "a = np.array([[3,  2,  -1],\n",
        "             [2,  -2,  4],\n",
        "             [-1,  0.5,  -1]])\n",
        "                \n",
        "ainv = inv(np.matrix(a))\n",
        "ainv           \n",
        "b= np.array([1,-2,0])\n",
        "\n",
        "c= np.linalg.solve(a,b)\n",
        "\n",
        "print(ainv)\n",
        "print(b)\n",
        "print(c)\n"
      ],
      "execution_count": 36,
      "outputs": [
        {
          "output_type": "stream",
          "text": [
            "[[ 1.48029737e-16 -5.00000000e-01 -2.00000000e+00]\n",
            " [ 6.66666667e-01  1.33333333e+00  4.66666667e+00]\n",
            " [ 3.33333333e-01  1.16666667e+00  3.33333333e+00]]\n",
            "[ 1 -2  0]\n",
            "[ 1. -2. -2.]\n"
          ],
          "name": "stdout"
        }
      ]
    }
  ]
}