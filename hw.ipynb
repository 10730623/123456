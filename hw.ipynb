{
  "nbformat": 4,
  "nbformat_minor": 0,
  "metadata": {
    "colab": {
      "name": "hw.ipynb",
      "version": "0.3.2",
      "provenance": []
    },
    "kernelspec": {
      "name": "python3",
      "display_name": "Python 3"
    }
  },
  "cells": [
    {
      "metadata": {
        "id": "BP-HkbKqbW6C",
        "colab_type": "text"
      },
      "cell_type": "markdown",
      "source": [
        "#optimization problem \n",
        "https://en.wikipedia.org/wiki/Optimization_problem\n",
        "\n",
        ">$$\n",
        "\\begin{aligned}&{\\underset {x}{\\operatorname {minimize} }}&&f(x)\\\\&\\operatorname {subject\\;to} &&g_{i}(x)\\leq 0,\\quad i=1,\\dots ,m\\\\&&&h_{j}(x)=0,\\quad j=1,\\dots ,p\\end{aligned}\n",
        "$$\n",
        ">where :\n",
        "\n",
        "> * $ f:\\mathbb {R} ^{n}\\to \\mathbb {R}  $  is the objective function to be minimized over the n-variable vector $ {\\displaystyle x},$<br>\n",
        "> * $g_{i}(x)\\leq 0 $are called inequality constraints<br>\n",
        "> * ${\\displaystyle h_{j}(x)=0}$ are called equality constraints, and ${\\displaystyle m\\geq 0\\ and\\ p\\geq 0}.$<br><br>\n",
        "\n",
        ">If ${\\displaystyle m}$ and ${\\displaystyle p}$ equal 0, the problem is an unconstrained optimization problem. \n",
        "By convention, the standard form defines a minimization problem. A maximization problem can be treated by negating the objective function.\n",
        "\n",
        " \n",
        "\n",
        "#1.Define the optimization problem by Mathematic equations.\n",
        "\n",
        "#2. one variable  method: using constraint to replace one variable \n",
        "\n",
        "#2.1 run tensorflow gradient descent to answer the question.\n",
        "\n",
        "#2.2 run genetic algorithm answer the question.\n",
        "\n",
        "\n",
        "We have a piece of cardboard that is 14 inches by 10 inches and we’re going to cut out the corners as shown below and fold up the sides to form a box, also shown below. Determine the height of the box that will give a maximum volume.\n",
        "\n",
        ">![img](http://tutorial.math.lamar.edu/Classes/CalcI/Optimization_Files/image006.gif)\n",
        "\n",
        ">Let’s let the height of the box be $h$ . So, the width/length of the corners being cut out is also h and so the vertical side will have a “new” height of $10−2h$ and the horizontal side will have a “new” width of $14−2h$. \n",
        "\n",
        ">![img](http://tutorial.math.lamar.edu/Classes/CalcI/Optimization_Files/image007.png)\n",
        "\n",
        ">In this example, for the first time, we’ve run into a problem where the constraint doesn’t really have an equation. The constraint is simply the size of the piece of cardboard and has already been factored into the figure above. This will happen on occasion and so don’t get excited about it when it does. This just means that we have one less equation to worry about. In this case we want to maximize the volume. Here is the volume, in terms of $h$ and its first derivative.\n",
        ">>$V(h)=h(14−2h)(10−2h)=140h−48h^2+4h^3 $<br>\n",
        "\n",
        ">Setting the first derivative equal to zero and solving gives the following two critical points,\n",
        "\n",
        ">>$h = \\frac{{12 \\pm \\sqrt {39} }}{3} = 1.9183,\\,\\,\\,\\,6.0817$\n",
        "\n",
        ">We now have an apparent problem. We have two critical points and we’ll need to determine which one is the value we need. The fact that we have two critical points means that neither the first derivative test or the second derivative test can be used here as they both require a single critical point. This isn’t a real problem however. Go back to the figure at the start of the solution and notice that we can quite easily find limits on h. The smallest h can be is h=0 even though this doesn’t make much sense as we won’t get a box in this case. Also, from the 10 inch side we can see that the largest h can be is $h=5$ although again, this doesn’t make much sense physically.\n",
        "\n",
        ">So, knowing that whatever $h$ is it must be in the range $0≤h≤5$  we can see that the second critical point is outside this range and so the only critical point that we need to worry about is 1.9183.\n",
        "\n",
        ">Finally, since the volume is defined and continuous on $0≤h≤5$ all we need to do is plug in the critical points and endpoints into the volume to determine which gives the largest volume. Here are those function evaluations.\n",
        ">>$\n",
        "V\\left( 0 \\right) = 0\\hspace{0.25in}\\hspace{0.25in}V\\left( {1.9183} \\right) = 120.1644\\hspace{0.25in}\\hspace{0.25in}V\\left( 5 \\right) = 0\n",
        "$\n",
        "\n",
        ">So, if we take $h=1.9183$ we get a maximum volume.\n"
      ]
    },
    {
      "metadata": {
        "id": "R4eYglxsgHGD",
        "colab_type": "code",
        "colab": {
          "base_uri": "https://localhost:8080/",
          "height": 284
        },
        "outputId": "5c870034-d853-4016-c4b3-64d90f6f8ec5"
      },
      "cell_type": "code",
      "source": [
        "\n",
        "import tensorflow as tf\n",
        "import numpy as np\n",
        "\n",
        "%matplotlib inline\n",
        "import pylab\n",
        "\n",
        "def func_q(h):\n",
        "  return 140*h-48*h**2+4*h**3\n",
        "\n",
        "\n",
        "x = np.linspace(-5, 5, 1000)\n",
        "y = 10000-func_q(x_data)\n",
        "\n",
        "pylab.plot(x, y,)\n",
        "\n"
      ],
      "execution_count": 32,
      "outputs": [
        {
          "output_type": "execute_result",
          "data": {
            "text/plain": [
              "[<matplotlib.lines.Line2D at 0x7fbb53416ac8>]"
            ]
          },
          "metadata": {
            "tags": []
          },
          "execution_count": 32
        },
        {
          "output_type": "display_data",
          "data": {
            "image/png": "[encoded data removed]",
            "text/plain": [
              "<matplotlib.figure.Figure at 0x7fbb53273a90>"
            ]
          },
          "metadata": {
            "tags": []
          }
        }
      ]
    },
    {
      "metadata": {
        "id": "OiA1TipOq6Q3",
        "colab_type": "code",
        "colab": {
          "base_uri": "https://localhost:8080/",
          "height": 134
        },
        "outputId": "cd47ab94-26af-45cd-86a5-0a21d293b8ca"
      },
      "cell_type": "code",
      "source": [
        "\n",
        "h = tf.Variable(tf.random_uniform([1], -10, 10.0))\n",
        "\n",
        "\n",
        "func_tf = 1000000-func_q(h)\n",
        "\n",
        "loss = func_tf \n",
        "optimizer = tf.train.GradientDescentOptimizer(0.01) \n",
        "train = optimizer.minimize(loss)\n",
        "init = tf.initialize_all_variables()\n",
        "\n",
        "print(\"loss:\", loss)\n",
        "print(\"optimizer:\", optimizer)\n",
        "print(\"train:\", train)\n",
        "#print(init)\n",
        "\n",
        "# 1.6 Create a session and launch the graph.\n",
        "sess = tf.Session()\n",
        "sess.run(init)\n",
        "\n",
        "#print(sess.run([h]))\n",
        "\n",
        "\n",
        "for step in range(87):\n",
        "    sess.run(train)\n",
        "print(sess.run([h]))\n"
      ],
      "execution_count": 36,
      "outputs": [
        {
          "output_type": "stream",
          "text": [
            "loss: Tensor(\"sub_11:0\", shape=(1,), dtype=float32)\n",
            "optimizer: <tensorflow.python.training.gradient_descent.GradientDescentOptimizer object at 0x7fbb55fd2438>\n",
            "train: name: \"GradientDescent_5\"\n",
            "op: \"NoOp\"\n",
            "input: \"^GradientDescent_5/update_Variable_5/ApplyGradientDescent\"\n",
            "\n",
            "[array([1.918334], dtype=float32)]\n"
          ],
          "name": "stdout"
        }
      ]
    },
    {
      "metadata": {
        "id": "OAK8gVXssHpJ",
        "colab_type": "code",
        "colab": {
          "base_uri": "https://localhost:8080/",
          "height": 34
        },
        "outputId": "6af53144-0dcd-4f64-c2e4-ef0a1e3718ca"
      },
      "cell_type": "code",
      "source": [
        "!pip install gaft"
      ],
      "execution_count": 34,
      "outputs": [
        {
          "output_type": "stream",
          "text": [
            "Requirement already satisfied: gaft in /usr/local/lib/python3.6/dist-packages (0.5.7)\n"
          ],
          "name": "stdout"
        }
      ]
    },
    {
      "metadata": {
        "id": "mpYJHz53sXMB",
        "colab_type": "code",
        "colab": {
          "base_uri": "https://localhost:8080/",
          "height": 1529
        },
        "outputId": "2c21ed4c-aa07-49f9-a300-f1a9bed50dff"
      },
      "cell_type": "code",
      "source": [
        "from math import sin, cos, pi\n",
        "\n",
        "from gaft import GAEngine\n",
        "from gaft.components import BinaryIndividual\n",
        "from gaft.components import Population\n",
        "from gaft.operators import TournamentSelection\n",
        "from gaft.operators import UniformCrossover\n",
        "from gaft.operators import FlipBitBigMutation\n",
        "\n",
        "# Built-in best fitness analysis.\n",
        "from gaft.analysis.fitness_store import FitnessStore\n",
        "from gaft.analysis.console_output import ConsoleOutput\n",
        "\n",
        "\n",
        "indv_template = BinaryIndividual(ranges=[(-5, 5)], eps=0.001)\n",
        "population = Population(indv_template=indv_template, size=50).init()\n",
        "\n",
        "selection = TournamentSelection()\n",
        "crossover = UniformCrossover(pc=0.8, pe=0.5)\n",
        "mutation = FlipBitBigMutation(pm=0.1, pbm=0.55, alpha=0.6)\n",
        "\n",
        "engine = GAEngine(population=population, selection=selection,\n",
        "                  crossover=crossover, mutation=mutation,\n",
        "                  analysis=[ConsoleOutput, FitnessStore])\n",
        "\n",
        "# Define fitness function.\n",
        "@engine.fitness_register\n",
        "def fitness(indv):\n",
        "    h, = indv.solution\n",
        "    return 140*h-48*h**2+4*h**3\n",
        "\n",
        "if '__main__' == __name__:\n",
        "\n",
        "  engine.run(ng=87)\n",
        "\n"
      ],
      "execution_count": 35,
      "outputs": [
        {
          "output_type": "stream",
          "text": [
            "gaft.ConsoleOutput   INFO     Generation number: 87 Population number: 50\n",
            "gaft.ConsoleOutput   INFO     Generation: 1, best fitness: 120.164, scaled fitness: 120.164\n",
            "gaft.ConsoleOutput   INFO     Generation: 2, best fitness: 120.164, scaled fitness: 120.164\n",
            "gaft.ConsoleOutput   INFO     Generation: 3, best fitness: 120.164, scaled fitness: 120.164\n",
            "gaft.ConsoleOutput   INFO     Generation: 4, best fitness: 120.164, scaled fitness: 120.164\n",
            "gaft.ConsoleOutput   INFO     Generation: 5, best fitness: 120.164, scaled fitness: 120.164\n",
            "gaft.ConsoleOutput   INFO     Generation: 6, best fitness: 120.164, scaled fitness: 120.164\n",
            "gaft.ConsoleOutput   INFO     Generation: 7, best fitness: 120.164, scaled fitness: 120.164\n",
            "gaft.ConsoleOutput   INFO     Generation: 8, best fitness: 120.164, scaled fitness: 120.164\n",
            "gaft.ConsoleOutput   INFO     Generation: 9, best fitness: 120.164, scaled fitness: 120.164\n",
            "gaft.ConsoleOutput   INFO     Generation: 10, best fitness: 120.164, scaled fitness: 120.164\n",
            "gaft.ConsoleOutput   INFO     Generation: 11, best fitness: 120.164, scaled fitness: 120.164\n",
            "gaft.ConsoleOutput   INFO     Generation: 12, best fitness: 120.164, scaled fitness: 120.164\n",
            "gaft.ConsoleOutput   INFO     Generation: 13, best fitness: 120.164, scaled fitness: 120.164\n",
            "gaft.ConsoleOutput   INFO     Generation: 14, best fitness: 120.164, scaled fitness: 120.164\n",
            "gaft.ConsoleOutput   INFO     Generation: 15, best fitness: 120.164, scaled fitness: 120.164\n",
            "gaft.ConsoleOutput   INFO     Generation: 16, best fitness: 120.164, scaled fitness: 120.164\n",
            "gaft.ConsoleOutput   INFO     Generation: 17, best fitness: 120.164, scaled fitness: 120.164\n",
            "gaft.ConsoleOutput   INFO     Generation: 18, best fitness: 120.164, scaled fitness: 120.164\n",
            "gaft.ConsoleOutput   INFO     Generation: 19, best fitness: 120.164, scaled fitness: 120.164\n",
            "gaft.ConsoleOutput   INFO     Generation: 20, best fitness: 120.164, scaled fitness: 120.164\n",
            "gaft.ConsoleOutput   INFO     Generation: 21, best fitness: 120.164, scaled fitness: 120.164\n",
            "gaft.ConsoleOutput   INFO     Generation: 22, best fitness: 120.164, scaled fitness: 120.164\n",
            "gaft.ConsoleOutput   INFO     Generation: 23, best fitness: 120.164, scaled fitness: 120.164\n",
            "gaft.ConsoleOutput   INFO     Generation: 24, best fitness: 120.164, scaled fitness: 120.164\n",
            "gaft.ConsoleOutput   INFO     Generation: 25, best fitness: 120.164, scaled fitness: 120.164\n",
            "gaft.ConsoleOutput   INFO     Generation: 26, best fitness: 120.164, scaled fitness: 120.164\n",
            "gaft.ConsoleOutput   INFO     Generation: 27, best fitness: 120.164, scaled fitness: 120.164\n",
            "gaft.ConsoleOutput   INFO     Generation: 28, best fitness: 120.164, scaled fitness: 120.164\n",
            "gaft.ConsoleOutput   INFO     Generation: 29, best fitness: 120.164, scaled fitness: 120.164\n",
            "gaft.ConsoleOutput   INFO     Generation: 30, best fitness: 120.164, scaled fitness: 120.164\n",
            "gaft.ConsoleOutput   INFO     Generation: 31, best fitness: 120.164, scaled fitness: 120.164\n",
            "gaft.ConsoleOutput   INFO     Generation: 32, best fitness: 120.164, scaled fitness: 120.164\n",
            "gaft.ConsoleOutput   INFO     Generation: 33, best fitness: 120.164, scaled fitness: 120.164\n",
            "gaft.ConsoleOutput   INFO     Generation: 34, best fitness: 120.164, scaled fitness: 120.164\n",
            "gaft.ConsoleOutput   INFO     Generation: 35, best fitness: 120.164, scaled fitness: 120.164\n",
            "gaft.ConsoleOutput   INFO     Generation: 36, best fitness: 120.164, scaled fitness: 120.164\n",
            "gaft.ConsoleOutput   INFO     Generation: 37, best fitness: 120.164, scaled fitness: 120.164\n",
            "gaft.ConsoleOutput   INFO     Generation: 38, best fitness: 120.164, scaled fitness: 120.164\n",
            "gaft.ConsoleOutput   INFO     Generation: 39, best fitness: 120.164, scaled fitness: 120.164\n",
            "gaft.ConsoleOutput   INFO     Generation: 40, best fitness: 120.164, scaled fitness: 120.164\n",
            "gaft.ConsoleOutput   INFO     Generation: 41, best fitness: 120.164, scaled fitness: 120.164\n",
            "gaft.ConsoleOutput   INFO     Generation: 42, best fitness: 120.164, scaled fitness: 120.164\n",
            "gaft.ConsoleOutput   INFO     Generation: 43, best fitness: 120.164, scaled fitness: 120.164\n",
            "gaft.ConsoleOutput   INFO     Generation: 44, best fitness: 120.164, scaled fitness: 120.164\n",
            "gaft.ConsoleOutput   INFO     Generation: 45, best fitness: 120.164, scaled fitness: 120.164\n",
            "gaft.ConsoleOutput   INFO     Generation: 46, best fitness: 120.164, scaled fitness: 120.164\n",
            "gaft.ConsoleOutput   INFO     Generation: 47, best fitness: 120.164, scaled fitness: 120.164\n",
            "gaft.ConsoleOutput   INFO     Generation: 48, best fitness: 120.164, scaled fitness: 120.164\n",
            "gaft.ConsoleOutput   INFO     Generation: 49, best fitness: 120.164, scaled fitness: 120.164\n",
            "gaft.ConsoleOutput   INFO     Generation: 50, best fitness: 120.164, scaled fitness: 120.164\n",
            "gaft.ConsoleOutput   INFO     Generation: 51, best fitness: 120.164, scaled fitness: 120.164\n",
            "gaft.ConsoleOutput   INFO     Generation: 52, best fitness: 120.164, scaled fitness: 120.164\n",
            "gaft.ConsoleOutput   INFO     Generation: 53, best fitness: 120.164, scaled fitness: 120.164\n",
            "gaft.ConsoleOutput   INFO     Generation: 54, best fitness: 120.164, scaled fitness: 120.164\n",
            "gaft.ConsoleOutput   INFO     Generation: 55, best fitness: 120.164, scaled fitness: 120.164\n",
            "gaft.ConsoleOutput   INFO     Generation: 56, best fitness: 120.164, scaled fitness: 120.164\n",
            "gaft.ConsoleOutput   INFO     Generation: 57, best fitness: 120.164, scaled fitness: 120.164\n",
            "gaft.ConsoleOutput   INFO     Generation: 58, best fitness: 120.164, scaled fitness: 120.164\n",
            "gaft.ConsoleOutput   INFO     Generation: 59, best fitness: 120.164, scaled fitness: 120.164\n",
            "gaft.ConsoleOutput   INFO     Generation: 60, best fitness: 120.164, scaled fitness: 120.164\n",
            "gaft.ConsoleOutput   INFO     Generation: 61, best fitness: 120.164, scaled fitness: 120.164\n",
            "gaft.ConsoleOutput   INFO     Generation: 62, best fitness: 120.164, scaled fitness: 120.164\n",
            "gaft.ConsoleOutput   INFO     Generation: 63, best fitness: 120.164, scaled fitness: 120.164\n",
            "gaft.ConsoleOutput   INFO     Generation: 64, best fitness: 120.164, scaled fitness: 120.164\n",
            "gaft.ConsoleOutput   INFO     Generation: 65, best fitness: 120.164, scaled fitness: 120.164\n",
            "gaft.ConsoleOutput   INFO     Generation: 66, best fitness: 120.164, scaled fitness: 120.164\n",
            "gaft.ConsoleOutput   INFO     Generation: 67, best fitness: 120.164, scaled fitness: 120.164\n",
            "gaft.ConsoleOutput   INFO     Generation: 68, best fitness: 120.164, scaled fitness: 120.164\n",
            "gaft.ConsoleOutput   INFO     Generation: 69, best fitness: 120.164, scaled fitness: 120.164\n",
            "gaft.ConsoleOutput   INFO     Generation: 70, best fitness: 120.164, scaled fitness: 120.164\n",
            "gaft.ConsoleOutput   INFO     Generation: 71, best fitness: 120.164, scaled fitness: 120.164\n",
            "gaft.ConsoleOutput   INFO     Generation: 72, best fitness: 120.164, scaled fitness: 120.164\n",
            "gaft.ConsoleOutput   INFO     Generation: 73, best fitness: 120.164, scaled fitness: 120.164\n",
            "gaft.ConsoleOutput   INFO     Generation: 74, best fitness: 120.164, scaled fitness: 120.164\n",
            "gaft.ConsoleOutput   INFO     Generation: 75, best fitness: 120.164, scaled fitness: 120.164\n",
            "gaft.ConsoleOutput   INFO     Generation: 76, best fitness: 120.164, scaled fitness: 120.164\n",
            "gaft.ConsoleOutput   INFO     Generation: 77, best fitness: 120.164, scaled fitness: 120.164\n",
            "gaft.ConsoleOutput   INFO     Generation: 78, best fitness: 120.164, scaled fitness: 120.164\n",
            "gaft.ConsoleOutput   INFO     Generation: 79, best fitness: 120.164, scaled fitness: 120.164\n",
            "gaft.ConsoleOutput   INFO     Generation: 80, best fitness: 120.164, scaled fitness: 120.164\n",
            "gaft.ConsoleOutput   INFO     Generation: 81, best fitness: 120.164, scaled fitness: 120.164\n",
            "gaft.ConsoleOutput   INFO     Generation: 82, best fitness: 120.164, scaled fitness: 120.164\n",
            "gaft.ConsoleOutput   INFO     Generation: 83, best fitness: 120.164, scaled fitness: 120.164\n",
            "gaft.ConsoleOutput   INFO     Generation: 84, best fitness: 120.164, scaled fitness: 120.164\n",
            "gaft.ConsoleOutput   INFO     Generation: 85, best fitness: 120.164, scaled fitness: 120.164\n",
            "gaft.ConsoleOutput   INFO     Generation: 86, best fitness: 120.164, scaled fitness: 120.164\n",
            "gaft.ConsoleOutput   INFO     Generation: 87, best fitness: 120.164, scaled fitness: 120.164\n",
            "gaft.ConsoleOutput   INFO     Optimal solution: ([1.917724609375], 120.16441203741124)\n",
            "gaft.FitnessStore   INFO     Best fitness values are written to best_fit.py\n"
          ],
          "name": "stdout"
        }
      ]
    }
  ]
}