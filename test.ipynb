{
  "nbformat": 4,
  "nbformat_minor": 0,
  "metadata": {
    "colab": {
      "name": "test.ipynb",
      "version": "0.3.2",
      "provenance": []
    },
    "kernelspec": {
      "name": "python3",
      "display_name": "Python 3"
    }
  },
  "cells": [
    {
      "metadata": {
        "id": "0EgkgJbD5v9G",
        "colab_type": "text"
      },
      "cell_type": "markdown",
      "source": [
        "\n",
        "#1.Define the optimization problem by Mathematic equations.\n",
        "\n",
        "#2. one variable  method: using constraint to replace one variable \n",
        "\n",
        "#2.1 run tensorflow gradient descent to answer the question.\n",
        "\n",
        "#2.2 run genetic algorithm answer the question.<br>\n",
        "\n",
        "\n",
        "\n",
        "1.\n",
        "\n",
        ">>$A(y)=(500-2y)y=500y-2y^2 $<br>\n",
        "\n",
        ">>$A`(y)=500-2y$<br>"
      ]
    },
    {
      "metadata": {
        "id": "Nq-qamFJ6q59",
        "colab_type": "code",
        "colab": {
          "base_uri": "https://localhost:8080/",
          "height": 34
        },
        "outputId": "5450f7f4-851a-4e5d-bb41-732a061adc20"
      },
      "cell_type": "code",
      "source": [
        "!pip install gaft\n",
        "\n"
      ],
      "execution_count": 58,
      "outputs": [
        {
          "output_type": "stream",
          "text": [
            "Requirement already satisfied: gaft in /usr/local/lib/python3.6/dist-packages (0.5.7)\n"
          ],
          "name": "stdout"
        }
      ]
    },
    {
      "metadata": {
        "id": "rEhCYKwX8lfb",
        "colab_type": "code",
        "colab": {
          "base_uri": "https://localhost:8080/",
          "height": 282
        },
        "outputId": "de72a5ef-2cc8-4962-c81a-a644524f4df2"
      },
      "cell_type": "code",
      "source": [
        "import tensorflow as tf\n",
        "import numpy as np\n",
        "\n",
        "%matplotlib inline\n",
        "import pylab\n",
        "\n",
        "def func_q(h):\n",
        "  return 500*h-2*h**2\n",
        "def func_q1(h):\n",
        "  return 500-2*h\n",
        "\n",
        "\n",
        "x = np.linspace(0, 250, 1000)\n",
        "y =func_q(x)\n",
        "\n",
        "pylab.plot(x, y,)\n"
      ],
      "execution_count": 62,
      "outputs": [
        {
          "output_type": "execute_result",
          "data": {
            "text/plain": [
              "[<matplotlib.lines.Line2D at 0x7fb6e138eb70>]"
            ]
          },
          "metadata": {
            "tags": []
          },
          "execution_count": 62
        },
        {
          "output_type": "display_data",
          "data": {
            "image/png": "[encoded data removed]",
            "text/plain": [
              "<matplotlib.figure.Figure at 0x7fb6e14f4048>"
            ]
          },
          "metadata": {
            "tags": []
          }
        }
      ]
    },
    {
      "metadata": {
        "id": "hiRJF8WT-WSa",
        "colab_type": "code",
        "colab": {
          "base_uri": "https://localhost:8080/",
          "height": 136
        },
        "outputId": "7a2e5b7a-2b2a-4e52-f0a4-f5b52671bb8a"
      },
      "cell_type": "code",
      "source": [
        "h = tf.Variable(tf.random_uniform([1], -10, 10.0))\n",
        "\n",
        "\n",
        "func_tf =10000- func_q(h)\n",
        "\n",
        "loss = func_tf \n",
        "optimizer = tf.train.GradientDescentOptimizer(0.01) \n",
        "train = optimizer.minimize(loss)\n",
        "init = tf.initialize_all_variables()\n",
        "\n",
        "print(\"loss:\", loss)\n",
        "print(\"optimizer:\", optimizer)\n",
        "print(\"train:\", train)\n",
        "#print(init)\n",
        "\n",
        "# 1.6 Create a session and launch the graph.\n",
        "sess = tf.Session()\n",
        "sess.run(init)\n",
        "\n",
        "#print(sess.run([h]))\n",
        "\n",
        "\n",
        "for step in range(150):\n",
        "    sess.run(train)\n",
        "print(sess.run([h]))"
      ],
      "execution_count": 64,
      "outputs": [
        {
          "output_type": "stream",
          "text": [
            "loss: Tensor(\"sub_21:0\", shape=(1,), dtype=float32)\n",
            "optimizer: <tensorflow.python.training.gradient_descent.GradientDescentOptimizer object at 0x7fb6e13737b8>\n",
            "train: name: \"GradientDescent_11\"\n",
            "op: \"NoOp\"\n",
            "input: \"^GradientDescent_11/update_Variable_14/ApplyGradientDescent\"\n",
            "\n",
            "[array([124.712585], dtype=float32)]\n"
          ],
          "name": "stdout"
        }
      ]
    },
    {
      "metadata": {
        "id": "gz_DG-e9-qIp",
        "colab_type": "code",
        "colab": {
          "base_uri": "https://localhost:8080/",
          "height": 1394
        },
        "outputId": "ee0f0256-4d0f-4df8-9cd0-85335c22bfda"
      },
      "cell_type": "code",
      "source": [
        "from math import sin, cos, pi\n",
        "\n",
        "from gaft import GAEngine\n",
        "from gaft.components import BinaryIndividual\n",
        "from gaft.components import Population\n",
        "from gaft.operators import TournamentSelection\n",
        "from gaft.operators import UniformCrossover\n",
        "from gaft.operators import FlipBitBigMutation\n",
        "\n",
        "# Built-in best fitness analysis.\n",
        "from gaft.analysis.fitness_store import FitnessStore\n",
        "from gaft.analysis.console_output import ConsoleOutput\n",
        "\n",
        "\n",
        "indv_template = BinaryIndividual(ranges=[(0, 250)], eps=0.001)\n",
        "population = Population(indv_template=indv_template, size=50).init()\n",
        "\n",
        "selection = TournamentSelection()\n",
        "crossover = UniformCrossover(pc=0.8, pe=0.5)\n",
        "mutation = FlipBitBigMutation(pm=0.1, pbm=0.55, alpha=0.6)\n",
        "\n",
        "engine = GAEngine(population=population, selection=selection,\n",
        "                  crossover=crossover, mutation=mutation,\n",
        "                  analysis=[ConsoleOutput, FitnessStore])\n",
        "\n",
        "# Define fitness function.\n",
        "@engine.fitness_register\n",
        "def fitness(indv):\n",
        "    h, = indv.solution\n",
        "    return 500*h-2*h**2\n",
        "\n",
        "if '__main__' == __name__:\n",
        "\n",
        "  engine.run(ng=78)"
      ],
      "execution_count": 67,
      "outputs": [
        {
          "output_type": "stream",
          "text": [
            "gaft.ConsoleOutput   INFO     Generation number: 78 Population number: 50\n",
            "gaft.ConsoleOutput   INFO     Generation: 1, best fitness: 31248.166, scaled fitness: 31248.166\n",
            "gaft.ConsoleOutput   INFO     Generation: 2, best fitness: 31248.166, scaled fitness: 31248.166\n",
            "gaft.ConsoleOutput   INFO     Generation: 3, best fitness: 31248.166, scaled fitness: 31248.166\n",
            "gaft.ConsoleOutput   INFO     Generation: 4, best fitness: 31249.560, scaled fitness: 31249.560\n",
            "gaft.ConsoleOutput   INFO     Generation: 5, best fitness: 31249.563, scaled fitness: 31249.563\n",
            "gaft.ConsoleOutput   INFO     Generation: 6, best fitness: 31249.836, scaled fitness: 31249.836\n",
            "gaft.ConsoleOutput   INFO     Generation: 7, best fitness: 31249.836, scaled fitness: 31249.836\n",
            "gaft.ConsoleOutput   INFO     Generation: 8, best fitness: 31249.836, scaled fitness: 31249.836\n",
            "gaft.ConsoleOutput   INFO     Generation: 9, best fitness: 31249.836, scaled fitness: 31249.836\n",
            "gaft.ConsoleOutput   INFO     Generation: 10, best fitness: 31249.836, scaled fitness: 31249.836\n",
            "gaft.ConsoleOutput   INFO     Generation: 11, best fitness: 31249.999, scaled fitness: 31249.999\n",
            "gaft.ConsoleOutput   INFO     Generation: 12, best fitness: 31249.999, scaled fitness: 31249.999\n",
            "gaft.ConsoleOutput   INFO     Generation: 13, best fitness: 31249.999, scaled fitness: 31249.999\n",
            "gaft.ConsoleOutput   INFO     Generation: 14, best fitness: 31249.999, scaled fitness: 31249.999\n",
            "gaft.ConsoleOutput   INFO     Generation: 15, best fitness: 31249.999, scaled fitness: 31249.999\n",
            "gaft.ConsoleOutput   INFO     Generation: 16, best fitness: 31249.999, scaled fitness: 31249.999\n",
            "gaft.ConsoleOutput   INFO     Generation: 17, best fitness: 31249.999, scaled fitness: 31249.999\n",
            "gaft.ConsoleOutput   INFO     Generation: 18, best fitness: 31249.999, scaled fitness: 31249.999\n",
            "gaft.ConsoleOutput   INFO     Generation: 19, best fitness: 31250.000, scaled fitness: 31250.000\n",
            "gaft.ConsoleOutput   INFO     Generation: 20, best fitness: 31250.000, scaled fitness: 31250.000\n",
            "gaft.ConsoleOutput   INFO     Generation: 21, best fitness: 31250.000, scaled fitness: 31250.000\n",
            "gaft.ConsoleOutput   INFO     Generation: 22, best fitness: 31250.000, scaled fitness: 31250.000\n",
            "gaft.ConsoleOutput   INFO     Generation: 23, best fitness: 31250.000, scaled fitness: 31250.000\n",
            "gaft.ConsoleOutput   INFO     Generation: 24, best fitness: 31250.000, scaled fitness: 31250.000\n",
            "gaft.ConsoleOutput   INFO     Generation: 25, best fitness: 31250.000, scaled fitness: 31250.000\n",
            "gaft.ConsoleOutput   INFO     Generation: 26, best fitness: 31250.000, scaled fitness: 31250.000\n",
            "gaft.ConsoleOutput   INFO     Generation: 27, best fitness: 31250.000, scaled fitness: 31250.000\n",
            "gaft.ConsoleOutput   INFO     Generation: 28, best fitness: 31250.000, scaled fitness: 31250.000\n",
            "gaft.ConsoleOutput   INFO     Generation: 29, best fitness: 31250.000, scaled fitness: 31250.000\n",
            "gaft.ConsoleOutput   INFO     Generation: 30, best fitness: 31250.000, scaled fitness: 31250.000\n",
            "gaft.ConsoleOutput   INFO     Generation: 31, best fitness: 31250.000, scaled fitness: 31250.000\n",
            "gaft.ConsoleOutput   INFO     Generation: 32, best fitness: 31250.000, scaled fitness: 31250.000\n",
            "gaft.ConsoleOutput   INFO     Generation: 33, best fitness: 31250.000, scaled fitness: 31250.000\n",
            "gaft.ConsoleOutput   INFO     Generation: 34, best fitness: 31250.000, scaled fitness: 31250.000\n",
            "gaft.ConsoleOutput   INFO     Generation: 35, best fitness: 31250.000, scaled fitness: 31250.000\n",
            "gaft.ConsoleOutput   INFO     Generation: 36, best fitness: 31250.000, scaled fitness: 31250.000\n",
            "gaft.ConsoleOutput   INFO     Generation: 37, best fitness: 31250.000, scaled fitness: 31250.000\n",
            "gaft.ConsoleOutput   INFO     Generation: 38, best fitness: 31250.000, scaled fitness: 31250.000\n",
            "gaft.ConsoleOutput   INFO     Generation: 39, best fitness: 31250.000, scaled fitness: 31250.000\n",
            "gaft.ConsoleOutput   INFO     Generation: 40, best fitness: 31250.000, scaled fitness: 31250.000\n",
            "gaft.ConsoleOutput   INFO     Generation: 41, best fitness: 31250.000, scaled fitness: 31250.000\n",
            "gaft.ConsoleOutput   INFO     Generation: 42, best fitness: 31250.000, scaled fitness: 31250.000\n",
            "gaft.ConsoleOutput   INFO     Generation: 43, best fitness: 31250.000, scaled fitness: 31250.000\n",
            "gaft.ConsoleOutput   INFO     Generation: 44, best fitness: 31250.000, scaled fitness: 31250.000\n",
            "gaft.ConsoleOutput   INFO     Generation: 45, best fitness: 31250.000, scaled fitness: 31250.000\n",
            "gaft.ConsoleOutput   INFO     Generation: 46, best fitness: 31250.000, scaled fitness: 31250.000\n",
            "gaft.ConsoleOutput   INFO     Generation: 47, best fitness: 31250.000, scaled fitness: 31250.000\n",
            "gaft.ConsoleOutput   INFO     Generation: 48, best fitness: 31250.000, scaled fitness: 31250.000\n",
            "gaft.ConsoleOutput   INFO     Generation: 49, best fitness: 31250.000, scaled fitness: 31250.000\n",
            "gaft.ConsoleOutput   INFO     Generation: 50, best fitness: 31250.000, scaled fitness: 31250.000\n",
            "gaft.ConsoleOutput   INFO     Generation: 51, best fitness: 31250.000, scaled fitness: 31250.000\n",
            "gaft.ConsoleOutput   INFO     Generation: 52, best fitness: 31250.000, scaled fitness: 31250.000\n",
            "gaft.ConsoleOutput   INFO     Generation: 53, best fitness: 31250.000, scaled fitness: 31250.000\n",
            "gaft.ConsoleOutput   INFO     Generation: 54, best fitness: 31250.000, scaled fitness: 31250.000\n",
            "gaft.ConsoleOutput   INFO     Generation: 55, best fitness: 31250.000, scaled fitness: 31250.000\n",
            "gaft.ConsoleOutput   INFO     Generation: 56, best fitness: 31250.000, scaled fitness: 31250.000\n",
            "gaft.ConsoleOutput   INFO     Generation: 57, best fitness: 31250.000, scaled fitness: 31250.000\n",
            "gaft.ConsoleOutput   INFO     Generation: 58, best fitness: 31250.000, scaled fitness: 31250.000\n",
            "gaft.ConsoleOutput   INFO     Generation: 59, best fitness: 31250.000, scaled fitness: 31250.000\n",
            "gaft.ConsoleOutput   INFO     Generation: 60, best fitness: 31250.000, scaled fitness: 31250.000\n",
            "gaft.ConsoleOutput   INFO     Generation: 61, best fitness: 31250.000, scaled fitness: 31250.000\n",
            "gaft.ConsoleOutput   INFO     Generation: 62, best fitness: 31250.000, scaled fitness: 31250.000\n",
            "gaft.ConsoleOutput   INFO     Generation: 63, best fitness: 31250.000, scaled fitness: 31250.000\n",
            "gaft.ConsoleOutput   INFO     Generation: 64, best fitness: 31250.000, scaled fitness: 31250.000\n",
            "gaft.ConsoleOutput   INFO     Generation: 65, best fitness: 31250.000, scaled fitness: 31250.000\n",
            "gaft.ConsoleOutput   INFO     Generation: 66, best fitness: 31250.000, scaled fitness: 31250.000\n",
            "gaft.ConsoleOutput   INFO     Generation: 67, best fitness: 31250.000, scaled fitness: 31250.000\n",
            "gaft.ConsoleOutput   INFO     Generation: 68, best fitness: 31250.000, scaled fitness: 31250.000\n",
            "gaft.ConsoleOutput   INFO     Generation: 69, best fitness: 31250.000, scaled fitness: 31250.000\n",
            "gaft.ConsoleOutput   INFO     Generation: 70, best fitness: 31250.000, scaled fitness: 31250.000\n",
            "gaft.ConsoleOutput   INFO     Generation: 71, best fitness: 31250.000, scaled fitness: 31250.000\n",
            "gaft.ConsoleOutput   INFO     Generation: 72, best fitness: 31250.000, scaled fitness: 31250.000\n",
            "gaft.ConsoleOutput   INFO     Generation: 73, best fitness: 31250.000, scaled fitness: 31250.000\n",
            "gaft.ConsoleOutput   INFO     Generation: 74, best fitness: 31250.000, scaled fitness: 31250.000\n",
            "gaft.ConsoleOutput   INFO     Generation: 75, best fitness: 31250.000, scaled fitness: 31250.000\n",
            "gaft.ConsoleOutput   INFO     Generation: 76, best fitness: 31250.000, scaled fitness: 31250.000\n",
            "gaft.ConsoleOutput   INFO     Generation: 77, best fitness: 31250.000, scaled fitness: 31250.000\n",
            "gaft.ConsoleOutput   INFO     Generation: 78, best fitness: 31250.000, scaled fitness: 31250.000\n",
            "gaft.ConsoleOutput   INFO     Optimal solution: ([125.00572204589844], 31249.99993451638)\n",
            "gaft.FitnessStore   INFO     Best fitness values are written to best_fit.py\n"
          ],
          "name": "stdout"
        }
      ]
    }
  ]
}